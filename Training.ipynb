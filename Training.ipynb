{
 "cells": [
  {
   "cell_type": "code",
   "execution_count": null,
   "metadata": {},
   "outputs": [],
   "source": [
    "## Load secrets from file\n",
    "import os\n",
    "FP_Secrets = 'Numerai.secrets'\n",
    "\n",
    "if not os.path.exists(FP_Secrets):\n",
    "    raise FileNotFoundError(f\"'{FP_Secrets}' not found. Make sure the file exists.\")\n",
    "\n",
    "# Read API keys \n",
    "api_keys = {}\n",
    "with open(FP_Secrets, 'r') as secrets_file:\n",
    "    for line in secrets_file:\n",
    "        key, value = line.strip().split('=')\n",
    "        api_keys[key] = value\n",
    "\n",
    "# Set your Numerai API credentials\n",
    "PUBLIC_KEY = api_keys.get('PUBLIC_KEY')\n",
    "SECRET_KEY = api_keys.get('SECRET_KEY')\n",
    "\n",
    "if not PUBLIC_KEY or not SECRET_KEY:\n",
    "    raise ValueError(\"API keys not found in the 'numerai.secrets' file.\")\n"
   ]
  },
  {
   "cell_type": "code",
   "execution_count": null,
   "metadata": {},
   "outputs": [],
   "source": [
    "import pandas as pd\n",
    "import numerapi\n",
    "\n",
    "# Set your Numerai API credentials\n",
    "napi = numerapi.NumerAPI(public_id=PUBLIC_KEY, secret_key=SECRET_KEY)\n",
    "\n",
    "# Download the latest Numerai datasets\n",
    "napi.download_dataset(\"v4.1/train.parquet\", \"train.parquet\")\n",
    "napi.download_dataset(\"v4.1/validation.parquet\", \"validation.parquet\")\n",
    "napi.download_dataset(\"v4.1/live.parquet\", \"live.parquet\")\n",
    "napi.download_dataset(\"v4.1/live_example_preds.parquet\", \"live_example_preds.parquet\")\n",
    "napi.download_dataset(\"v4.1/validation_example_preds.parquet\", \"validation_example_preds.parquet\")\n",
    "napi.download_dataset(\"v4.1/features.json\", \"features.json\")\n",
    "napi.download_dataset(\"v4.1/meta_model.parquet\", \"meta_model.parquet\")\n",
    "\n",
    "# Load the data into pandas DataFrames using `pd.read_parquet`\n",
    "train_data = pd.read_parquet(\"train.parquet\")\n",
    "validation_data = pd.read_parquet(\"validation.parquet\")\n",
    "live_data = pd.read_parquet(\"live.parquet\")\n",
    "live_example_preds = pd.read_parquet(\"live_example_preds.parquet\")\n",
    "validation_example_preds = pd.read_parquet(\"validation_example_preds.parquet\")\n",
    "\n",
    "# Display basic info about the data\n",
    "print(\"Training data shape:\", train_data.shape)\n",
    "print(\"Validation data shape:\", validation_data.shape)\n",
    "print(\"Live data shape:\", live_data.shape)\n",
    "\n",
    "# Challenge: How might you use the additional files like 'features.json' and 'meta_model.parquet' in your ML models?\n"
   ]
  },
  {
   "cell_type": "code",
   "execution_count": null,
   "metadata": {},
   "outputs": [],
   "source": [
    "## Initializes Numerai Data and NumerAPI\n",
    "import numpy as np\n",
    "import pandas as pd\n",
    "import numerapi\n",
    "import re\n",
    "\n",
    "# Set your Numerai API credentials\n",
    "napi = numerapi.NumerAPI(public_id=PUBLIC_KEY, secret_key=SECRET_KEY)\n",
    "\n",
    "# Download the latest Numerai dataset\n",
    "napi.download_current_dataset(unzip=True)\n",
    "\n",
    "f_pattern = r\"numerai_dataset_\\d+\"\n",
    "f_name = None\n",
    "print(os.listdir())\n",
    "for file in os.listdir():\n",
    "    if re.match(f_pattern, file):\n",
    "        f_name = file\n",
    "        break\n",
    "\n",
    "assert f_name != None\n",
    "f_name = f_name.replace('.zip', '') \n"
   ]
  },
  {
   "cell_type": "code",
   "execution_count": null,
   "metadata": {},
   "outputs": [],
   "source": [
    "t_data = os.path.join(f_name, \"numerai_training_data.csv\")\n",
    "tor_data = os.path.join(f_name, \"numerai_tournament_data.csv\")\n",
    "\n",
    "# Load the data into pandas DataFrames\n",
    "train_data = pd.read_csv(t_data)\n",
    "tournament_data = pd.read_csv(tor_data)\n",
    "\n",
    "# Display basic info about the data\n",
    "print(\"Training data shape:\", train_data.shape)\n",
    "print(\"Tournament data shape:\", tournament_data.shape)"
   ]
  }
 ],
 "metadata": {
  "kernelspec": {
   "display_name": "numerai",
   "language": "python",
   "name": "python3"
  },
  "language_info": {
   "codemirror_mode": {
    "name": "ipython",
    "version": 3
   },
   "file_extension": ".py",
   "mimetype": "text/x-python",
   "name": "python",
   "nbconvert_exporter": "python",
   "pygments_lexer": "ipython3",
   "version": "3.8.17"
  },
  "orig_nbformat": 4
 },
 "nbformat": 4,
 "nbformat_minor": 2
}
