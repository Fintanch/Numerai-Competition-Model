{
 "cells": [
  {
   "cell_type": "code",
   "execution_count": null,
   "metadata": {},
   "outputs": [],
   "source": [
    "## Load secrets from file\n",
    "import os\n",
    "FP_Secrets = 'numerai.secrets'\n",
    "\n",
    "if not os.path.exists(FP_Secrets):\n",
    "    raise FileNotFoundError(f\"'{FP_Secrets}' not found. Make sure the file exists.\")\n",
    "\n",
    "# Read API keys \n",
    "api_keys = {}\n",
    "with open(FP_Secrets, 'r') as secrets_file:\n",
    "    for line in secrets_file:\n",
    "        key, value = line.strip().split('=')\n",
    "        api_keys[key] = value\n",
    "\n",
    "# Set your Numerai API credentials\n",
    "PUBLIC_KEY = api_keys.get('PUBLIC_KEY')\n",
    "SECRET_KEY = api_keys.get('SECRET_KEY')\n",
    "\n",
    "if not PUBLIC_KEY or not SECRET_KEY:\n",
    "    raise ValueError(\"API keys not found in the 'numerai.secrets' file.\")\n",
    "\n",
    "# Now you can use the PUBLIC_KEY and SECRET_KEY in your code\n",
    "print(\"PUBLIC_KEY:\", PUBLIC_KEY)\n",
    "print(\"SECRET_KEY:\", SECRET_KEY)\n"
   ]
  },
  {
   "cell_type": "code",
   "execution_count": null,
   "metadata": {},
   "outputs": [],
   "source": [
    "## Starter Script\n",
    "# Import necessary libraries\n",
    "import numpy as np\n",
    "import pandas as pd\n",
    "import numerapi\n",
    "\n",
    "# Set your Numerai API credentials\n",
    "PUBLIC_KEY = 'your_public_key_here'\n",
    "SECRET_KEY = 'your_secret_key_here'\n",
    "napi = numerapi.NumerAPI(public_key=PUBLIC_KEY, secret_key=SECRET_KEY)\n",
    "\n",
    "# Download the latest Numerai dataset\n",
    "napi.download_current_dataset(unzip=True)\n",
    "\n",
    "# Load the data into pandas DataFrames\n",
    "train_data = pd.read_csv('numerai_training_data.csv')\n",
    "tournament_data = pd.read_csv('numerai_tournament_data.csv')\n",
    "\n",
    "# Display basic info about the data\n",
    "print(\"Training data shape:\", train_data.shape)\n",
    "print(\"Tournament data shape:\", tournament_data.shape)"
   ]
  }
 ],
 "metadata": {
  "language_info": {
   "name": "python"
  },
  "orig_nbformat": 4
 },
 "nbformat": 4,
 "nbformat_minor": 2
}
